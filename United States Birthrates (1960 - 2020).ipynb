{
 "cells": [
  {
   "cell_type": "markdown",
   "id": "5b56f88d",
   "metadata": {},
   "source": [
    "# A quick illustration of reading in, filtering, modifying, and plotting data using Pandas and Matplotlib.  "
   ]
  },
  {
   "cell_type": "code",
   "execution_count": 6,
   "id": "f8b0e5a1",
   "metadata": {},
   "outputs": [],
   "source": [
    "import pandas as pd; \n",
    "import numpy as np;\n",
    "import matplotlib.pyplot as plt;\n",
    "from datetime import datetime, timedelta;"
   ]
  },
  {
   "cell_type": "code",
   "execution_count": 7,
   "id": "0674cb00",
   "metadata": {},
   "outputs": [],
   "source": [
    "df = pd.read_csv('/Users/bradleywest/Documents/python_birthrates/fertility_rate.csv', index_col = False);"
   ]
  },
  {
   "cell_type": "markdown",
   "id": "1aeab9bf",
   "metadata": {},
   "source": [
    "# Create dataframe specific to the United States by locating the column and transforming the matrix. "
   ]
  },
  {
   "cell_type": "code",
   "execution_count": 3,
   "id": "7cee1f2d",
   "metadata": {},
   "outputs": [],
   "source": [
    "us_data = df.loc[df['Country'] == 'United States']\n",
    "us_data.reset_index(drop = True, inplace = True)\n",
    "us_data = us_data.T\n",
    "us_data.columns = us_data.iloc[0]\n",
    "us_data = us_data[1:]\n",
    "us_data.reset_index(inplace = True)\n",
    "us_data.columns = ['year', 'birth_rate']"
   ]
  },
  {
   "cell_type": "markdown",
   "id": "20e98f57",
   "metadata": {},
   "source": [
    "# Print Summary Statistics of the United States birth rate."
   ]
  },
  {
   "cell_type": "code",
   "execution_count": 4,
   "id": "16a428d3",
   "metadata": {},
   "outputs": [
    {
     "name": "stdout",
     "output_type": "stream",
     "text": [
      "        birth_rate\n",
      "min       1.640000\n",
      "max       3.650000\n",
      "median    2.000000\n",
      "mean      2.113607\n"
     ]
    }
   ],
   "source": [
    "print(us_data.agg(\n",
    "    {\n",
    "        \"birth_rate\": [\"min\", \"max\", \"median\", \"mean\"],\n",
    "    }\n",
    "))"
   ]
  },
  {
   "cell_type": "markdown",
   "id": "d6d861d6",
   "metadata": {},
   "source": [
    "# Create plot using matplotlib/pyplot to illustrate the decline in birth rates"
   ]
  },
  {
   "cell_type": "code",
   "execution_count": 8,
   "id": "d40e611c",
   "metadata": {
    "scrolled": true
   },
   "outputs": [
    {
     "data": {
      "text/plain": [
       "Text(0.5, 1.0, 'Birth Rates in the United States')"
      ]
     },
     "execution_count": 8,
     "metadata": {},
     "output_type": "execute_result"
    },
    {
     "data": {
      "image/png": "[encoded data removed]",
      "text/plain": [
       "<Figure size 432x288 with 1 Axes>"
      ]
     },
     "metadata": {
      "needs_background": "light"
     },
     "output_type": "display_data"
    }
   ],
   "source": [
    "t = np.arange(datetime(1960,1,1), datetime(2021,1,1), timedelta(days=366)).astype(datetime)\n",
    "x = us_data['year']\n",
    "y = us_data['birth_rate']\n",
    "fig, ax = plt.subplots()\n",
    "ax.plot(t,y, linewidth=2.0)\n",
    "plt.ylabel('Birth Rate')\n",
    "plt.title('Birth Rates in the United States')"
   ]
  }
 ],
 "metadata": {
  "author": [
   {
    "name": "Bradley West"
   }
  ],
  "kernelspec": {
   "display_name": "Python 3 (ipykernel)",
   "language": "python",
   "name": "python3"
  },
  "language_info": {
   "codemirror_mode": {
    "name": "ipython",
    "version": 3
   },
   "file_extension": ".py",
   "mimetype": "text/x-python",
   "name": "python",
   "nbconvert_exporter": "python",
   "pygments_lexer": "ipython3",
   "version": "3.9.12"
  },
  "title": "United States Birthrates (1960 - 2020)"
 },
 "nbformat": 4,
 "nbformat_minor": 5
}
